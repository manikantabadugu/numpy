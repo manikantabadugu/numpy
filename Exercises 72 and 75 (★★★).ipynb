{
 "cells": [
  {
   "cell_type": "code",
   "execution_count": null,
   "id": "complimentary-handbook",
   "metadata": {
    "slideshow": {
     "slide_type": "slide"
    }
   },
   "outputs": [],
   "source": [
    "# Import the needed libraries"
   ]
  },
  {
   "cell_type": "markdown",
   "id": "pacific-kentucky",
   "metadata": {},
   "source": [
    "**72. How to swap two rows of an array?** "
   ]
  },
  {
   "cell_type": "code",
   "execution_count": 9,
   "id": "proper-reservoir",
   "metadata": {},
   "outputs": [
    {
     "name": "stdout",
     "output_type": "stream",
     "text": [
      "original one:\n",
      " [[1 2 3]\n",
      " [4 5 6]\n",
      " [7 8 9]\n",
      " [4 3 1]]\n",
      "swapped one:\n",
      " [[1 2 3]\n",
      " [7 8 9]\n",
      " [4 5 6]\n",
      " [4 3 1]]\n"
     ]
    }
   ],
   "source": [
    "import numpy as np\n",
    "A= np.array([[1,2,3],[4,5,6],[7, 8, 9],[4, 3, 1]])\n",
    "print(\"original one:\\n\", A)\n",
    "A[[1, 2]] = A[[2, 1]]\n",
    "print(\"swapped one:\\n\",A)"
   ]
  },
  {
   "cell_type": "markdown",
   "id": "outer-encoding",
   "metadata": {},
   "source": [
    "**75. How to compute averages using a sliding window over an array?**"
   ]
  },
  {
   "cell_type": "code",
   "execution_count": 11,
   "id": "active-reply",
   "metadata": {},
   "outputs": [
    {
     "name": "stdout",
     "output_type": "stream",
     "text": [
      "[0 1 2 3 4 5 6 7 8 9]\n",
      "[1.5 2.5 3.5 4.5 5.5 6.5 7.5]\n"
     ]
    }
   ],
   "source": [
    "import numpy as np\n",
    "def averages(a, n) :\n",
    "    print(a)\n",
    "    test = np.cumsum(a, dtype=float)\n",
    "    test[n:] = test[n:] - test[:-n]\n",
    "    return print(test[n - 1:] / n)\n",
    "\n",
    "averages(np.arange(10),4)\n"
   ]
  },
  {
   "cell_type": "code",
   "execution_count": null,
   "id": "abb7ad95",
   "metadata": {},
   "outputs": [],
   "source": []
  }
 ],
 "metadata": {
  "kernelspec": {
   "display_name": "Python 3",
   "language": "python",
   "name": "python3"
  },
  "language_info": {
   "codemirror_mode": {
    "name": "ipython",
    "version": 3
   },
   "file_extension": ".py",
   "mimetype": "text/x-python",
   "name": "python",
   "nbconvert_exporter": "python",
   "pygments_lexer": "ipython3",
   "version": "3.8.8"
  }
 },
 "nbformat": 4,
 "nbformat_minor": 5
}
